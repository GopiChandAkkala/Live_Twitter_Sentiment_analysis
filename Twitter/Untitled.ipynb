{
 "cells": [
  {
   "cell_type": "code",
   "execution_count": 3,
   "metadata": {},
   "outputs": [],
   "source": [
    "import re\n",
    "import tweepy\n",
    "from tweepy import OAuthHandler\n",
    "from textblob import TextBlob"
   ]
  },
  {
   "cell_type": "code",
   "execution_count": null,
   "metadata": {},
   "outputs": [],
   "source": [
    "class twitter(object):\n",
    "    \n",
    "    def __init__(self):\n",
    "        \n",
    "        consumer_key = 'zL0B6wz0PlFWwdxmOpw4fH3BV'\n",
    "        consumer_secret = 'y2j39ml7enzDcbYZug3Qg4SYUu9l3J8CeCGVgYjebsPian1XEV'\n",
    "        access_token = '1926811351-vPZUgjWH9CQ3lWmQt2WAVqqBXeSm70vRbZhhmCK'\n",
    "        access_token_secret = 'Bq4mllghKn7NJXyIyAOIen3Go7V1R8unhOzfCUZkyJSVN'\n",
    "        \n",
    "        try:\n",
    "            \n",
    "            self.auth = OAuthHandler(consumer_key,consumer_secret)\n",
    "            self.auth.set_access_token(access_token,access_token_secret)\n",
    "            self.api = tweepy.API(self.auth)\n",
    "        \n",
    "        except:\n",
    "            \n",
    "            print(\"Authorization Error...Please try again\")\n",
    "            \n",
    "    def get_tweets(self,query,count = 5):\n",
    "        \n",
    "        tweets = []\n",
    "        \n",
    "        \n",
    "        \n",
    "    def main():\n",
    "        \n",
    "        api = twitter()\n",
    "        tweets = api.get_tweets(query = 'Coronavirus', count = 10)"
   ]
  }
 ],
 "metadata": {
  "kernelspec": {
   "display_name": "Python 3",
   "language": "python",
   "name": "python3"
  },
  "language_info": {
   "codemirror_mode": {
    "name": "ipython",
    "version": 3
   },
   "file_extension": ".py",
   "mimetype": "text/x-python",
   "name": "python",
   "nbconvert_exporter": "python",
   "pygments_lexer": "ipython3",
   "version": "3.7.6"
  }
 },
 "nbformat": 4,
 "nbformat_minor": 4
}
